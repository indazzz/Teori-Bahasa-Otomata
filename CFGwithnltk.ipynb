{
 "cells": [
  {
   "cell_type": "code",
   "execution_count": 32,
   "id": "2bb5d876",
   "metadata": {},
   "outputs": [],
   "source": [
    "import nltk\n",
    "nltk.download('punkt', quiet=True)\n",
    "nltk.download('averaged_perceptron_tagger', quiet=True);"
   ]
  },
  {
   "cell_type": "code",
   "execution_count": 33,
   "id": "4a0ca20d",
   "metadata": {},
   "outputs": [],
   "source": [
    "groucho_grammar = nltk.CFG.fromstring(\"\"\"\n",
    "S -> NP VP\n",
    "NP -> Det Nom | Det N\n",
    "Nom -> Adj N | Adj Adj N\n",
    "VP -> VP PP | V NP\n",
    "PP -> P NP\n",
    "Det -> 'the'\n",
    "Adj -> 'little' | 'fine' | 'fat'\n",
    "N -> 'bear' | 'trout' | 'brook'\n",
    "V -> 'saw'\n",
    "P -> 'in'\n",
    "\"\"\")"
   ]
  },
  {
   "cell_type": "code",
   "execution_count": 34,
   "id": "557e9d51",
   "metadata": {},
   "outputs": [],
   "source": [
    "parser = nltk.ChartParser(groucho_grammar)"
   ]
  },
  {
   "cell_type": "code",
   "execution_count": 35,
   "id": "3f0f4299",
   "metadata": {},
   "outputs": [
    {
     "name": "stdout",
     "output_type": "stream",
     "text": [
      "(S\n",
      "  (NP (Det the) (Nom (Adj little) (N bear)))\n",
      "  (VP\n",
      "    (VP (V saw) (NP (Det the) (Nom (Adj fine) (Adj fat) (N trout))))\n",
      "    (PP (P in) (NP (Det the) (N brook)))))\n"
     ]
    }
   ],
   "source": [
    "sent = ['the', 'little', 'bear', 'saw', 'the', 'fine', 'fat', 'trout', 'in', 'the', 'brook']\n",
    "for tree in parser.parse(sent):\n",
    "    print(tree)"
   ]
  },
  {
   "cell_type": "code",
   "execution_count": null,
   "id": "0ffdc081",
   "metadata": {},
   "outputs": [],
   "source": []
  }
 ],
 "metadata": {
  "kernelspec": {
   "display_name": "Python 3 (ipykernel)",
   "language": "python",
   "name": "python3"
  },
  "language_info": {
   "codemirror_mode": {
    "name": "ipython",
    "version": 3
   },
   "file_extension": ".py",
   "mimetype": "text/x-python",
   "name": "python",
   "nbconvert_exporter": "python",
   "pygments_lexer": "ipython3",
   "version": "3.9.7"
  }
 },
 "nbformat": 4,
 "nbformat_minor": 5
}
